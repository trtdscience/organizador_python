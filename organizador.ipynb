{
 "cells": [
  {
   "cell_type": "code",
   "execution_count": 5,
   "id": "a5753df9-5abc-4db1-94ce-e8a8cc861330",
   "metadata": {},
   "outputs": [],
   "source": [
    "import os\n",
    "from tkinter.filedialog import askdirectory"
   ]
  },
  {
   "cell_type": "code",
   "execution_count": 6,
   "id": "3d25a409-fce5-45de-ab75-9e93c1cd4728",
   "metadata": {},
   "outputs": [],
   "source": [
    "# Abre a pasta no computador\n",
    "path = askdirectory(title = 'Selecione a pasta')"
   ]
  },
  {
   "cell_type": "code",
   "execution_count": null,
   "id": "c18b5816-264c-4cd2-903d-75627669606f",
   "metadata": {},
   "outputs": [],
   "source": [
    "print(path)"
   ]
  },
  {
   "cell_type": "code",
   "execution_count": null,
   "id": "faabbbc4-dd79-4053-98e3-20b3632defc2",
   "metadata": {},
   "outputs": [],
   "source": [
    "# Exibir os arquivos na pasta selecionada\n",
    "lista_arq = os.listdir(path)"
   ]
  },
  {
   "cell_type": "code",
   "execution_count": null,
   "id": "19f80c67-83c6-468c-a8e8-96378506e317",
   "metadata": {},
   "outputs": [],
   "source": [
    "# Printar lista de arquivos\n",
    "print(lista_arq)"
   ]
  },
  {
   "cell_type": "code",
   "execution_count": null,
   "id": "d042faa5-a3bd-48b4-bfc7-cd043bb84496",
   "metadata": {},
   "outputs": [],
   "source": [
    "# Dicionário de arquivos com os locais para direcionar os arquivos\n",
    "locais = {\n",
    "'Imagens':['.png', '.jpg'],\n",
    "'Planilhas':['.xlsx'],\n",
    "'PDFs':['.pdf'],\n",
    "'CSV':['.csv']\n",
    "}"
   ]
  },
  {
   "cell_type": "code",
   "execution_count": null,
   "id": "89808f31-1090-44a5-9467-5ef937b2e477",
   "metadata": {},
   "outputs": [],
   "source": [
    "# \n",
    "for arquivo in lista_arq:\n",
    "    nome, extensao = os.path.splitext(f'{path}/{arquivo}')\n",
    "    for pasta in locais:\n",
    "        if extensao in locais[pasta]:\n",
    "            if not os.path.exists(f'{path}/{pasta}'):\n",
    "                os.mkdir(f'{path}/{pasta}')\n",
    "            os.rename(f'{path}/{arquivo}', f'{path}/{pasta}/{arquivo}')"
   ]
  },
  {
   "cell_type": "code",
   "execution_count": null,
   "id": "56b60b62-8fc5-4281-8471-f1c85b96d572",
   "metadata": {},
   "outputs": [],
   "source": []
  },
  {
   "cell_type": "code",
   "execution_count": null,
   "id": "fb4fe148-adc7-412e-b72a-3ad6fc9f408d",
   "metadata": {},
   "outputs": [],
   "source": []
  }
 ],
 "metadata": {
  "kernelspec": {
   "display_name": "Python 3 (ipykernel)",
   "language": "python",
   "name": "python3"
  },
  "language_info": {
   "codemirror_mode": {
    "name": "ipython",
    "version": 3
   },
   "file_extension": ".py",
   "mimetype": "text/x-python",
   "name": "python",
   "nbconvert_exporter": "python",
   "pygments_lexer": "ipython3",
   "version": "3.12.7"
  }
 },
 "nbformat": 4,
 "nbformat_minor": 5
}
